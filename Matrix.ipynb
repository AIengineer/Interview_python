{
 "cells": [
  {
   "cell_type": "code",
   "execution_count": 55,
   "metadata": {},
   "outputs": [],
   "source": [
    "import random"
   ]
  },
  {
   "cell_type": "code",
   "execution_count": 56,
   "metadata": {},
   "outputs": [],
   "source": [
    "#Create matrix and kernel\n",
    "def create_matrix(W, H):\n",
    "    matrix = []\n",
    "    for col in range(H):\n",
    "        value_col = []\n",
    "        for row in range(W):\n",
    "            value_col.append(random.randint(1,10))\n",
    "        matrix.append(value_col)\n",
    "    return matrix"
   ]
  },
  {
   "cell_type": "code",
   "execution_count": 69,
   "metadata": {},
   "outputs": [],
   "source": [
    "def get_padding(padding_value=0, len_pading=1):\n",
    "    item = []\n",
    "    for i in range(len_pading):\n",
    "        item.append(padding_value)\n",
    "    return item"
   ]
  },
  {
   "cell_type": "code",
   "execution_count": 70,
   "metadata": {},
   "outputs": [],
   "source": [
    "def padding(image, padding_value=0):\n",
    "    new_image = []\n",
    "    for row in range(len(image)):\n",
    "        new_image.append(get_padding(0, 1)+image[row]+ get_padding(0, 1))\n",
    "    image_padding = [get_padding(0, len(image[0])+2)]+ new_image+ [get_padding(0, len(image[0])+2)]\n",
    "    return image_padding"
   ]
  },
  {
   "cell_type": "code",
   "execution_count": 132,
   "metadata": {},
   "outputs": [],
   "source": [
    "def sum_conv(matrix, kernel):\n",
    "    sum_item = 0\n",
    "    for col in range(len(matrix)):\n",
    "        for row in range(len(matrix[0])):\n",
    "                sum_item+=matrix[col][row]*kernel[col][row]\n",
    "    return sum_item"
   ]
  },
  {
   "cell_type": "code",
   "execution_count": 133,
   "metadata": {},
   "outputs": [],
   "source": [
    "def get_matrix(image_padding, h_start, h_end, v_start, v_end):\n",
    "    matrix = []\n",
    "    for col in range(h_start, h_end):\n",
    "        temp = []\n",
    "        for row in range(v_start, v_end):\n",
    "            temp.append(image_padding[col][row])\n",
    "        matrix.append(temp)\n",
    "    return matrix"
   ]
  },
  {
   "cell_type": "code",
   "execution_count": 134,
   "metadata": {},
   "outputs": [],
   "source": [
    "def conv2d(image, kernel, bi_as = 0, stride = 1, pad =1):\n",
    "    n_H_old, n_W_old = len(image), len(image[0])\n",
    "    f, f = len(kernel), len(kernel[0])\n",
    "    image_padding = padding(image, padding_value=0)\n",
    "    n_H_new = int((n_H_old - f + 2*pad)/stride) + 1 \n",
    "    n_W_new = int((n_W_old - f + 2*pad)/stride) + 1 \n",
    "    con2d_image = create_matrix(n_H_new, n_W_new)\n",
    "    for h in range(n_H_new):\n",
    "        for v in range(n_W_new):\n",
    "            h_start = h*stride \n",
    "            h_end = h_start + f\n",
    "            v_start = v*stride \n",
    "            v_end = v_start + f\n",
    "            matrix = get_matrix( image_padding, h_start, h_end, v_start, v_end)\n",
    "            con2d_image[h][v] = sum_conv(matrix, kernel)\n",
    "    return con2d_image "
   ]
  },
  {
   "cell_type": "code",
   "execution_count": 135,
   "metadata": {},
   "outputs": [],
   "source": [
    "image = create_matrix( 28, 28)\n",
    "kernel = create_matrix(3, 3)\n",
    "image_conv = conv2d(image, kernel)"
   ]
  },
  {
   "cell_type": "code",
   "execution_count": 136,
   "metadata": {},
   "outputs": [
    {
     "name": "stdout",
     "output_type": "stream",
     "text": [
      "[[71, 137, 131, 143, 148, 118, 142, 107, 107, 123, 144, 128, 130, 168, 182, 135, 147, 103, 156, 132, 167, 175, 194, 122, 134, 119, 151, 117], [108, 160, 185, 159, 182, 223, 296, 257, 263, 228, 310, 286, 275, 276, 273, 192, 201, 157, 188, 230, 228, 310, 268, 236, 171, 242, 241, 177], [115, 203, 152, 146, 190, 192, 258, 228, 234, 213, 190, 218, 273, 277, 303, 244, 255, 252, 287, 276, 258, 302, 287, 216, 223, 180, 185, 157], [110, 157, 150, 121, 199, 251, 269, 259, 243, 277, 332, 347, 330, 274, 228, 196, 204, 239, 239, 267, 291, 333, 266, 252, 211, 252, 226, 163], [113, 193, 149, 168, 193, 233, 291, 310, 275, 212, 172, 216, 281, 236, 177, 219, 233, 305, 252, 230, 216, 256, 261, 251, 268, 222, 266, 226], [125, 182, 228, 176, 228, 234, 202, 232, 194, 235, 244, 251, 279, 288, 253, 255, 230, 173, 217, 217, 277, 222, 190, 200, 235, 206, 259, 165], [110, 227, 294, 256, 235, 236, 286, 223, 170, 149, 155, 167, 225, 269, 180, 197, 205, 198, 243, 271, 252, 241, 221, 207, 227, 183, 226, 191], [169, 270, 339, 249, 250, 174, 145, 164, 199, 246, 221, 193, 264, 269, 264, 247, 269, 198, 252, 232, 246, 188, 156, 103, 172, 172, 266, 154], [180, 315, 349, 266, 227, 168, 204, 221, 247, 241, 206, 177, 189, 202, 220, 202, 262, 210, 262, 210, 214, 219, 239, 170, 204, 250, 274, 205], [155, 258, 255, 239, 224, 243, 210, 245, 273, 322, 270, 193, 210, 230, 270, 249, 267, 218, 283, 198, 224, 164, 159, 163, 234, 288, 321, 227], [157, 267, 221, 240, 250, 290, 301, 320, 293, 262, 248, 219, 238, 245, 251, 226, 219, 218, 204, 163, 195, 235, 248, 241, 246, 266, 309, 199], [150, 266, 224, 267, 287, 287, 309, 272, 290, 257, 273, 229, 273, 268, 295, 252, 262, 265, 269, 263, 217, 242, 199, 215, 243, 242, 240, 193], [162, 297, 250, 265, 235, 241, 306, 295, 297, 233, 316, 266, 269, 221, 225, 241, 185, 191, 172, 217, 231, 291, 200, 175, 197, 224, 272, 158], [175, 305, 324, 240, 233, 209, 310, 264, 230, 168, 220, 207, 259, 196, 223, 215, 254, 252, 258, 294, 211, 207, 169, 172, 204, 232, 247, 230], [150, 268, 259, 234, 249, 229, 273, 211, 257, 208, 272, 186, 237, 222, 246, 201, 178, 178, 190, 185, 157, 180, 150, 136, 165, 246, 272, 233], [128, 195, 267, 229, 310, 277, 245, 170, 149, 174, 215, 226, 212, 243, 218, 207, 259, 288, 314, 274, 195, 181, 208, 200, 239, 233, 283, 228], [124, 197, 187, 175, 232, 189, 172, 123, 177, 183, 196, 203, 312, 315, 298, 225, 189, 198, 220, 251, 242, 223, 216, 151, 159, 235, 274, 221], [138, 201, 217, 162, 198, 198, 199, 164, 149, 237, 250, 264, 197, 249, 254, 308, 304, 321, 310, 266, 224, 228, 266, 270, 300, 249, 231, 131], [135, 218, 159, 143, 156, 214, 253, 243, 215, 206, 254, 233, 282, 212, 257, 210, 205, 210, 192, 208, 230, 210, 261, 247, 273, 285, 300, 186], [125, 193, 160, 139, 182, 240, 245, 267, 197, 281, 254, 226, 134, 166, 213, 298, 262, 237, 185, 155, 165, 166, 256, 323, 351, 301, 235, 101], [102, 180, 219, 208, 239, 193, 235, 191, 188, 180, 233, 220, 212, 195, 266, 248, 217, 229, 163, 128, 180, 199, 244, 282, 357, 336, 250, 179], [67, 138, 202, 257, 244, 190, 136, 145, 128, 211, 225, 227, 191, 184, 235, 211, 198, 193, 147, 174, 205, 225, 248, 313, 317, 277, 223, 171], [81, 145, 246, 217, 228, 164, 137, 145, 115, 170, 222, 237, 239, 283, 322, 309, 255, 240, 198, 253, 295, 296, 294, 275, 259, 246, 233, 224], [44, 118, 182, 261, 292, 238, 200, 185, 143, 175, 254, 205, 265, 181, 234, 240, 209, 209, 155, 255, 294, 299, 278, 254, 204, 196, 224, 213], [100, 176, 208, 244, 223, 268, 246, 239, 138, 159, 208, 260, 298, 288, 264, 255, 278, 258, 251, 242, 298, 234, 261, 238, 237, 222, 237, 229], [92, 176, 241, 261, 280, 323, 276, 277, 197, 137, 209, 189, 261, 250, 207, 268, 238, 245, 192, 219, 241, 282, 273, 280, 283, 265, 241, 188], [127, 253, 266, 231, 191, 229, 240, 274, 240, 222, 199, 204, 261, 225, 194, 185, 265, 244, 267, 167, 186, 198, 260, 254, 321, 312, 202, 117], [79, 128, 148, 139, 114, 154, 142, 163, 157, 103, 97, 95, 118, 141, 111, 131, 127, 140, 109, 117, 111, 161, 159, 172, 191, 185, 106, 64]]\n"
     ]
    }
   ],
   "source": [
    "print(image_conv)"
   ]
  },
  {
   "cell_type": "code",
   "execution_count": 25,
   "metadata": {},
   "outputs": [],
   "source": [
    "def check_type_row(matrix):\n",
    "    types = []\n",
    "    rank = 0\n",
    "    new_matrix = []\n",
    "    for row in matrix:\n",
    "        trigger = False\n",
    "        for col in row:\n",
    "            if len(str(col).split('.'))>1:\n",
    "                rank+=1\n",
    "                break\n",
    "            else:\n",
    "                trigger = True\n",
    "        if trigger:\n",
    "            new_matrix.append(row)\n",
    "    return new_matrix, rank"
   ]
  },
  {
   "cell_type": "code",
   "execution_count": 26,
   "metadata": {},
   "outputs": [
    {
     "data": {
      "text/plain": [
       "([[1, 2, 3]], 2)"
      ]
     },
     "execution_count": 26,
     "metadata": {},
     "output_type": "execute_result"
    }
   ],
   "source": [
    "a =[[1, 2, 3], [2.3, 4, 0], [-4.2, 0, 1]]\n",
    "check_type_row(a)"
   ]
  },
  {
   "cell_type": "code",
   "execution_count": 29,
   "metadata": {},
   "outputs": [
    {
     "data": {
      "text/plain": [
       "3"
      ]
     },
     "execution_count": 29,
     "metadata": {},
     "output_type": "execute_result"
    }
   ],
   "source": [
    "len(str([0,1,0]).split('0'))"
   ]
  },
  {
   "cell_type": "code",
   "execution_count": null,
   "metadata": {},
   "outputs": [],
   "source": []
  }
 ],
 "metadata": {
  "kernelspec": {
   "display_name": "Python 3",
   "language": "python",
   "name": "python3"
  },
  "language_info": {
   "codemirror_mode": {
    "name": "ipython",
    "version": 3
   },
   "file_extension": ".py",
   "mimetype": "text/x-python",
   "name": "python",
   "nbconvert_exporter": "python",
   "pygments_lexer": "ipython3",
   "version": "3.7.0"
  }
 },
 "nbformat": 4,
 "nbformat_minor": 4
}
